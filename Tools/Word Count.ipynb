{
 "cells": [
  {
   "cell_type": "code",
   "execution_count": 1,
   "metadata": {},
   "outputs": [
    {
     "name": "stderr",
     "output_type": "stream",
     "text": [
      "[nltk_data] Downloading package stopwords to\n",
      "[nltk_data]     C:\\Users\\kenem001\\AppData\\Roaming\\nltk_data...\n",
      "[nltk_data]   Package stopwords is already up-to-date!\n"
     ]
    }
   ],
   "source": [
    "#@title Default title text\n",
    "# Data processing modules\n",
    "import pandas as pd\n",
    "import numpy as np\n",
    "\n",
    "# Machine learning algorithms\n",
    "from sklearn.feature_extraction.text import CountVectorizer\n",
    "from sklearn import svm\n",
    "\n",
    "# Model saving\n",
    "import pickle\n",
    "\n",
    "# Data cleaning\n",
    "import re\n",
    "import itertools\n",
    "import nltk\n",
    "nltk.download('stopwords')\n",
    "from nltk.corpus import stopwords\n",
    "\n",
    "stopwords_eng = stopwords.words('english')\n",
    "\n",
    "import string\n",
    "\n",
    "from unidecode import unidecode"
   ]
  },
  {
   "cell_type": "code",
   "execution_count": 3,
   "metadata": {},
   "outputs": [],
   "source": [
    "df_original = pd.read_csv('../Data/data_cleaned.csv')\n",
    "\n",
    "df = df_original\n",
    "df = df[df['Description'].notna()]\n",
    "df = df[df['Translated'].notna()]"
   ]
  },
  {
   "cell_type": "code",
   "execution_count": 9,
   "metadata": {},
   "outputs": [
    {
     "data": {
      "text/plain": [
       "961"
      ]
     },
     "execution_count": 9,
     "metadata": {},
     "output_type": "execute_result"
    }
   ],
   "source": [
    "messages = df[df['Rep_Class'] == 'Warranty/Statutory Commercial Guarantees']['Translated']\n",
    "messages.count()"
   ]
  },
  {
   "cell_type": "code",
   "execution_count": 10,
   "metadata": {},
   "outputs": [
    {
     "name": "stdout",
     "output_type": "stream",
     "text": [
      "'warranty', 'not', 'consumer', 'guarantee', 'faulty', 'asked', 'query', 'gurantee', 'trader', 'bought', 'name', 'would', 'honoured', 'year', 'repairs', 'given', 'rights', 'still', 'contentbr', 'info', 'years', 'repair', 'told', 'replacement', 'legal', 'since', 'laptop', 'car', 'client', 'covered', 'gr', 'new', 'one', 'time', '2', 'wants', 'purchased', 'company', 'phone', 'months', 'replaced', 'mobile', 'know', 'defective', 'fault', 'said', 'issues', 'back', 'took', 'commercial', 'asking', 'also', 'weeks', 'like', '3', 'working', 'called', 'month', 'ago', '5', '1', 'sent', 'problem', 'whether', 'supplier', 'issue', 'expired', 'purchase', 'item', 'informed', 'td', 'repaired', 'period', 'malta', 'however', 'fiat', 'could', 'thanks', 'please', 'pay', 'parts', 'two', 'part', 'give', 'contacted', 'another', 'use', 'take', 'regarding', 'last', 'get', 'contact', '2020', 'unit', 'good', 'email', 'ask', 'tv', 'service', 'rust', 'long', 'lift', 'entitled', 'due', 'check', 'us', 'times', 'technician', 'problems', 'even', 'charge', 'came', 'ac', 'within', 'went', 'system', 'replace', 'machine', 'honored', 'fridge', 'free', 'fix', 'extension', 'shop', 'saying', 'never', 'may', 'first', 'cover', 'complaint', 'br', '4', 'product', 'installed', 'euro', 'broke', 'agent', 'week', 'stated', 'second', 'got', 'going', 'faults', 'enquiry', 'date', 'changed', 'change', 'case', 'water', 'wanted', 'need', 'damaged', 'cannot', 'answer', 'therefore', 'taken', 'stopped', 'scan', 'right', 'repeated', 'june', 'help', 'hand', 'days', 'cost', 'brand', 'battery', 'available', 'already', '6', 'taking', 'something', 'refused', 'refund', 'offered', 'october', 'needs', 'leave', 'kind', 'july', 'information', 'fan', 'day', 'damage', 'compressor', 'around', 'appliances', 'able', 'thank', 'tablet', 'start', 'send', 'requested', 'november', 'noticed', 'morning', 'might', 'many', 'manager', 'less', 'left', 'january', 'home', 'go', 'giving', 'extended', 'eu', 'enquirying', 'end', 'closed', 'brbr', '24', '2019', '2018', 'x', 'without', 'washing', 'three', 'see', 'screen', 'reply', 'refusing', 'received', 'proceed', 'point', 'order', 'note', 'misuse', 'made', 'local', 'fixed', 'explained', 'engine', 'done', 'concern', 'charging', 'call', 'august', 'abroad', 'yet', 'want', 'trying', 'traderb', 'touch', 'top', 'today', 'started', 'request', 'reported', 'regurantee', 'provide', 'option', 'opened', 'motor', 'money', 'matter', 'mallia', 'law', 'items', 'goods', 'gave', 'find', 'door', 'device', 'decided', 'december', 'come', 'charged', 'buy', 'business', 'broken', 'body', 'advice', 'written', 'whole', 'well', 'waiting', 'units', 'unable', 'tried', 'though', 'tell', 'solution', 'person', 'owner', 'old', 'nothing', 'needed', 'minimum', 'ltd', 'longer', 'letter', 'least', 'honoring', 'found', 'euros', 'dealer', 'btu', 'air', 'advance', 'accepted', 'worked', 'work', 'way', 'throttle', 'television', 'steps', 'stating', 'state', 'speak', 'solar', 'situation', 'short', 'shocks', 'returned', 'response', 'requesting', 'receipt', 'question', 'provided', 'proof', 'promised', 'passed', 'paid', 'original', 'number', 'multiple', 'later', 'kitchen', 'kettle', 'heater', 'gas', 'forward', 'far', 'exam', 'eur', 'electric', 'doors', 'different', 'di', 'developed', 'department', 'couple', 'costs', 'correct', 'collect', 'claims', 'claim', 'checked', 'chair', 'buying', 'box', 'borg', 'avail', 'aud', 'appointment', 'appliance', '8', '2nd', '12', '100', 'yesterday', 'wish', 'vehicle', 'using', 'used', 'unless', 'understand', 'turned', 'third', 'things', 'technical', 'supermarket', 'starts', 'staff', 'several', 'set', 'seller', 'retailer', 'remedy', 'remaining', 'registered', 'refuses', 'quite', 'ps4', 'procedures', 'procedure', 'price', 'present', 'port', 'pick', 'past', 'open', 'occurred', 'natura', 'motorcycle', 'milan', 'message', 'mentioned', 'manufacturing', 'light', 'leak', 'labour', 'kindly', 'keep', 'joseph', 'inverter', 'installation', 'hope', 'honor', 'guided', 'guarantees', 'glass', 'form', 'february', 'fact', 'extra', 'every', 'documents', 'dock', 'details', 'dent', 'customer', 'cup', 'credit', 'covid', 'coming', 'bucket', 'board', 'blade', 'best', 'bad', 'april', 'amount', 'always', 'almost', 'aircondition', 'afternoon', 'advised', 'accordingly', '55', '24000', '14th', '12000', 'works', 'weather', 'view', 'various', 'twice', 'trouble', 'telephone', 'technicians', 'summer', 'spoke', 'someone', 'solved', 'sold', 'software', 'sending', 'selling', 'scratch', 'says', 'resulted', 'reminder', 'put', 'purchasedb', 'properly', 'products', 'process', 'previous', 'power', 'plug', 'pin', 'photos', 'penetration', 'peeling', 'payment', 'paying', 'party', 'panels', 'oven', 'otherbrb', 'originally', 'ordered', 'online', 'nov', 'nintendo', 'next', 'must', 'much', 'motherboard', 'model', 'mind', 'microwave', 'mechanic', 'mark', 'manufacturer', 'ltt', 'lot', 'lost', 'look', 'kept', 'italy', 'international', 'immediate', 'house', 'hours', 'hot', 'honouring', 'hence', 'guidance', 'gozo', 'glue', 'getting', 'functioning', 'friday', 'freezer', 'forestals', 'finished', 'finds', 'finally', 'fall', 'fair', 'factory', 'expenses', 'error', 'enquiring', 'enquire', 'dont', 'display', 'dishwasher', 'difference', 'delivered', 'cut', 'current', 'cooling', 'contractor', 'continues', 'content', 'contacting', 'consumers', 'confirm', 'complained', 'choice', 'causing', 'cars', 'building', 'bring', 'became', 'approved', 'apartment', 'allowable', 'agreed', 'according', '7', '25', '18', '11', 'z', 'yr', 'yesbrb', 'wear', 'wayne', 'watch', 'waranty', 'wait', 'value', 'update', 'unfortunately', 'type', 'tuesday', 'thanking', 'terms', 'temporary', 'telling', 'tear', 'takes', 'suppliers', 'supermarkets', 'study', 'story', 'store', 'states', 'statement', 'standard', 'stamped', 'stage', 'spiteribrbr', 'sound', 'soon', 'six', 'showing', 'showed', 'services', 'sensor', 'sense', 'seems', 'scooter', 'say', 'samsung', 'rubber', 'result', 'required', 'report', 'referred', 'rectify', 'recently', 'really', 'ready', 'queries', 'quality', 'qormi', 'pump', 'probably', 'pro', 'printer', 'pot', 'possible', 'pls', 'place', 'phoned', 'password', 'outside', 'outlet', 'opted', 'opening', 'onoff', 'offering', 'offer', 'obliged', 'michele', 'mention', 'mechanical', 'meantime', 'marika', 'making', 'make', 'low', 'log', 'live', 'lifter', 'life', 'lidl', 'klikk', 'job', 'italian', 'iphone', 'intercomp', 'installer', 'inspection', 'insists', 'insisting', 'insisted', 'inform', 'hp', 'hoping', 'holder', 'hob', 'high', 'happens', 'happened', 'half', 'gypsum', 'guide', 'graetz', 'gasket', 'fully', 'full', 'food', 'following', 'fell', 'father', 'expires', 'expect', 'everything', 'etc', 'engineer', 'else', 'eligible', 'electronics', 'ecc', 'duration', 'drone', 'displaying', 'directly', 'delivery', 'defect', 'default', 'decision', 'cressida', 'cracked', 'covering', 'copy', 'cooker', 'conditioning', 'computer', 'complains', 'closing', 'claiming', 'claimed', 'cheapest', 'cctv', 'carry', 'carries', 'calls', 'button', 'buckets', 'block', 'believe', 'beginning', 'batteries', 'aware', 'automatic', 'attention', 'assistance', 'arrived', 'appreciate', 'applies', 'anything', 'anymore', 'answering', 'although', 'advise', 'adrian', 'address', '9', '5000', '500', '3rd', '30th', '2year', '26th', '2017', '2015', '1st', '1499', 'zebbug', 'zabbar', 'wrnty', 'write', 'workshop', 'wks', 'wire', 'wilma', 'welding', 'website', 'warrantynew', 'w', 'voltage', 'void', 'vita', 'visits', 'virus', 'video', 'verify', 'ventura', 'vendor', 'valid', 'vacuum', 'username', 'upon', 'upgrade', 'uk', 'turn', 'turbo', 'tumble', 'trust', 'true', 'triq', 'triple', 'trd', 'transport', 'transformer', 'traders', 'tracy', 'total', 'tiziana', 'titan', 'till', 'thursday', 'term', 'televisions', 'technology', 'techniques', 'switched', 'switch', 'surnameb', 'sure', 'supposedly', 'support', 'suddenly', 'submitted', 'submit', 'structure', 'strange', 'stove', 'stipulate', 'stands', 'stand', 'springs', 'spot', 'sometimes', 'solve', 'sofa', 'smith', 'sincerely', 'simply', 'signing', 'sicily', 'shutdown', 'shows', 'shift', 'shall', 'settled', 'servicing', 'serial', 'september', 'sell', 'seeking', 'sealed', 'sales', 'safety', 'rusting', 'round', 'roger', 'return', 'responsible', 'require', 'replied', 'replacing', 'repeatedly', 'repairreplace', 'renewed', 'removed', 'relative', 'related', 'refuse', 'reduced', 'recommercial', 'receive', 'reboth', 'reasons', 'reasonable', 'reason', 'rear', 'read', 'quoted', 'pv', 'purchases', 'purchaseb', 'prove', 'program', 'proceeded', 'problemb', 'presented', 'premises', 'possibly', 'policy', 'pointed', 'personal', 'per', 'pegs', 'peg', 'payments', 'particular', 'parked', 'paper', 'pans', 'panel', 'paidb', 'overheating', 'outer', 'outbreak', 'otherwise', 'opinion', 'official', 'offices', 'office', 'obligations', 'notice', 'normally', 'nomar', 'noise', 'nevyana', 'nevertheless', 'neither', 'moved', 'motors', 'monthly', 'mob', 'missing', 'minutes', 'miguel', 'mifsud', 'middle', 'micallefbrbr', 'messages', 'mercieca', 'member', 'medical', 'mechanism', 'means', 'mc', 'maybe', 'matters', 'material', 'marica', 'march', 'marc', 'marble', 'manual', 'mandatory', 'maltese', 'makes', 'maintenance', 'main', 'macbook', 'luqa', 'loud', 'lodge', 'list', 'liquid', 'lg', 'let', 'legally', 'legalcomm', 'leaking', 'layer', 'laws', 'labor', 'keyboard', 'keith', 'keeps', 'josef', 'joe', 'jessica', 'jesmond', 'j', 'issued', 'island', 'isaac', 'iron', 'ipad', 'invoice', 'internet', 'instead', 'installations', 'inquire', 'informationbrb', 'indeed', 'including', 'included', 'immediately', 'il', 'id', 'ian', 'hour', 'honour', 'highlighted', 'heating', 'hearing', 'heard', 'handled', 'hamrun', 'guidelines', 'guarante', 'group', 'geyser', 'geezer', 'gbb', 'gaurantee', 'gauci', 'gaming', 'gamebreaker', 'galeabrbr', 'galea', 'future', 'furniture', 'fridgefreezer', 'four', 'forst', 'formal', 'forced', 'fixing', 'fire', 'ff', 'feet', 'feeling', 'feedback', 'farrugiabrbr', 'fans', 'falls', 'experienced', 'exchange', 'exact', 'eventually', 'eur180', 'essential', 'especially', 'enough', 'english', 'empty', 'emails', 'electronic', 'either', 'earlier', 'e1', 'dryer', 'dropped', 'drill', 'dr', 'document', 'discovered', 'discontinued', 'disappointed', 'difficult', 'develops', 'detailsb', 'despite', 'deposit', 'darmaninbrb', 'customers', 'currently', 'crack', 'country', 'correspondence', 'cooler', 'contract', 'continued', 'continue', 'continental', 'contentbri', 'construct', 'consisted', 'considered', 'consider', 'confirmed', 'conditions', 'components', 'complaining', 'compensation', 'comes', 'collected', 'close', 'cleaning', 'cleaner', 'clean', 'claudia', 'claire', 'christopher', 'chasing', 'chased', 'charges', 'changing', 'certain', 'centre', 'caused', 'cases', 'carried', 'care', 'camilleribrbr', 'cameras', 'calling', 'burner', 'burden', 'brothers', 'break', 'boards', 'blender', 'bit', 'birkirkara', 'billy', 'bike', 'besides', 'becomes', 'bathroom', 'backlog', 'away', 'awaiting', 'authoritiesb', 'attardbrbr', 'attached', 'assumed', 'assume', 'assessment', 'approximately', 'approval', 'appreciated', 'apply', 'apple', 'antonella', 'alberta', 'alan', 'airconditioning', 'airconditioner', 'aids', 'agreements', 'agreement', 'agree', 'affect', 'advertising', 'adriana', 'adequate', 'addressb', 'add', 'account', 'accepting', 'aaron', '6mnths', '5yrs', '4th', '2yrs', '2016', '2014', '20', '15', '13', '10', '000000brb', 'zipper', 'zejtun', 'zarbbrbr', 'zarb', 'zammitbrbr', 'zammit', 'youkind', 'yearly', 'xiaomi', 'x360', 'writing', 'wotomoto', 'worse', 'worry', 'worried', 'worn', 'workplace', 'workmanship', 'words', 'wordingconditions', 'wording', 'wont', 'wondering', 'wo', 'withdrawal', 'wishes', 'wireless', 'wine', 'willing', 'wilfrid', 'wied', 'whitefrost', 'whilst', 'whichever', 'wherever', 'whenbuying', 'wheel', 'whats', 'weyou', 'wet', 'welli', 'weekly', 'wednesday', 'websites', 'wearables', 'waterproof', 'waste', 'warrington', 'warrantyreceipt', 'warrantyi', 'warranties', 'warrant', 'wall', 'voucher', 'voltages', 'voids', 'vitabrbr', 'visiting', 'visit', 'visibly', 'visavis', 'visa', 'violet', 'vileda', 'viewpoint', 'verpilio', 'vapor', 'vanessabrbr', 'valle', 'validity', 'valentina', 'vain', 'usually', 'userwhat', 'user', 'usage', 'urgent', 'updated', 'unusual', 'unsuccessful', 'unrepairable', 'unpacking', 'unfair', 'unanswered', 'unacceptable', 'ultimate', 'tyres', 'twoyear', 'twenty', 'tvs', 'turns', 'turning', 'troubles', 'trips', 'tries', 'treadmill', 'transportation', 'transpired', 'transferable', 'transfer', 'transactions', 'traineer', 'trade', 'tracking', 'tqatta', 'toys', 'totally', 'toothbrush', 'toom', 'tools', 'tony', 'toilet', 'tired', 'thunder', 'tht', 'thousand', 'thoroughly', 'tho', 'thinking', 'think', 'thermostat', 'thatfrom', 'thankfully', 'th', 'texted', 'text', 'terminated', 'tender', 'tend', 'ten', 'tech', 'tc', 'tanti79250279', 'tanti', 'tank', 'taniaabelayahoocom', 'tania', 'talking', 'talked', 'tackling', 'tablets', 'table', 'systems', 'synchronize', 'swollen', 'switchng', 'switching', 'swapped', 'suspect', 'surfaces', 'surely', 'supposed', 'supply', 'supplied', 'superior', 'super', 'sunday', 'suitable', 'substandard', 'subsequent', 'subscriptions', 'sturdy', 'studies', 'stuck', 'structural', 'stronger', 'strong', 'street', 'straight', 'storm', 'stock', 'sticks', 'sticker', 'sterilisation', 'stephen', 'step', 'stayed', 'statements', 'stair', 'stainlesssteel', 'st', 'spybrb', 'spy', 'spots', 'sporting', 'spoken', 'split', 'splash', 'spiteri00356', 'spiteri', 'spent', 'specifically', 'special', 'speaks', 'speaking', 'speakers', 'spare', 'soundbar', 'sorting', 'sort', 'sorry', 'somewhat', 'soft', 'smithbrbr', 'smells', 'smeg', 'smartwatch', 'smart', 'slides', 'sky', 'skin', 'ski', 'sister', 'single', 'simple', 'sim', 'signs', 'sign', 'side', 'showroom', 'shower', 'show', 'shortstaffed', 'shorter', 'shortened', 'shit', 'shipped', 'shelves', 'sheet', 'shattered', 'settlement', 'settledi', 'settle', 'serviced', 'serves', 'sergio', 'sept', 'seem', 'security', 'secondhand', 'secondary', 'seat', 'sealant', 'se', 'scrn', 'scopazzibrbr', 'sciberras', 'schembribrbr', 'scheduled', 'scerribrbr', 'scerri', 'sc', 'saw', 'satisfactory', 'san', 'salvatore', 'salinasbrbr', 'salinas', 'salesman', 'sale', 'saidbrbr', 'safer', 'safeguards', 'safe', 'ryanair', 'russell', 'run025hotmailcom', 'rpaired', 'room', 'roof', 'rodriguez', 'robots', 'road', 'risk', 'ripped', 'rightsdues', 'ridiculous', 'richards', 'rewarranty', 'revived', 'reuqest', 'returnsexchangesfaults', 'returns', 'returning', 'retaliated', 'rests', 'restricts', 'restored', 'restart', 'rest', 'responsibility', 'responding', 'respondent', 'responded', 'resolved', 'resolve', 'resistant', 'residential', 'residence', 'resent', 'resellers', 'reseller', 'resale', 'requires', 'requests', 'republic', 'representative', 'replying', 'replaceable', 'repeating', 'reparation', 'repairing', 'repairedi', 'rep', 'rendered', 'render', 'reminded', 'remains', 'remained', 'remain', 'relegal', 'relations', 'relation', 'relabour', 'reinstalled', 'regurnatee', 'regulations', 'regrettably', 'register', 'regard', 'refurnished', 'refurbished', 'refundthanksmarica', 'refunded', 'refundadvised', 'reflective', 'refer', 'reextension', 'redress', 'redownload', 'redoing', 'recommend', 'recliner', 'recived', 'recive', 'recipt', 'reception', 'receiving', 'receiptwarranty', 'receipts', 'reapply', 'realized', 'reair', 'reading', 'reach', 'rather', 'rate', 'rarely', 'raise', 'questions', 'questionning', 'querry', 'quantity', 'purposes', 'purely', 'purchaseinvoice', 'pulisbrbr', 'pulis', 'ps', 'providing', 'provides', 'protective', 'protection', 'protected', 'property', 'propellers', 'prolonged', 'prolong', 'productsservices', 'procured', 'processor', 'problemso', 'prior', 'pricing', 'prevent', 'prevails', 'prescription', 'preparing', 'prepare', 'pregnant', 'prefer', 'predrag', 'predicted', 'postponing', 'postinstallation', 'possession', 'position', 'popping', 'poor', 'plus', 'plumbing', 'pleasei', 'plastic', 'pipes', 'pipe', 'piece', 'pictures', 'pickup', 'picking', 'philippa', 'perusal', 'personnel', 'persists', 'permissive', 'permissible', 'periods', 'performing', 'performed', 'performances', 'perfect', 'percentage', 'people', 'pedal', 'peace', 'pc', 'pays', 'payed', 'passage', 'partmarble', 'parties', 'particles', 'paris', 'parents', 'paolabrb', 'panta', 'pane', 'pan', 'page', 'packaging', 'package', 'pack', 'pace', 'p', 'overturned', 'overseas', 'overrules', 'overnight', 'overheat', 'outdoor', 'outcome', 'ouryour', 'others', 'organisation', 'ordinary', 'ordering', 'optimal', 'optical', 'operations', 'operation', 'operating', 'onwards', 'ones', 'oline', 'ok', 'oil', 'often', 'offinfo', 'offincina', 'occurs', 'occur', 'obo', 'object', 'o2002auqzbq6d', 'nutri', 'nut', 'num', 'null', 'nsw', 'nowadays', 'notify', 'notification', 'noted', 'normal', 'non', 'noises', 'nobrb', 'nk', 'ninetendo', 'nine', 'nicholai', 'news', 'newly', 'newextended', 'networks', 'neg', 'nearly', 'near', 'national', 'namemarylinbrbr', 'namemaricabrbr', 'namely', 'nameclaire', 'n', 'music', 'mullumbimby', 'muchthe', 'motorcycke', 'motion', 'mothercompany', 'mother', 'mostabrb', 'morphy', 'montly', 'monitor', 'monday', 'moment', 'mobileb', 'mistake', 'miss', 'misinformed', 'minimal', 'mine', 'mile', 'mid', 'microsoft', 'michael', 'micallef', 'mhux', 'method', 'merry', 'memo', 'melted', 'mei', 'medics', 'meaning', 'mean', 'mde', 'mdarmanin8121gmailcombrb', 'mcca', 'mbrb', 'max', 'mattress', 'materialservice', 'materials', 'matches', 'mat', 'massager', 'marylin79003874', 'marsascala', 'marsa', 'market', 'marie', 'maria', 'marco', 'manufacture', 'manner', 'manages', 'manage', 'mamobrbr', 'maltabrb', 'malfunctioning', 'major', 'mainly', 'mainboard', 'mails', 'madame', 'm365', 'luxury', 'lpg', 'lotus', 'lopez', 'loosed', 'looking', 'logically', 'logged', 'located', 'locally', 'loan', 'living', 'lives', 'literally', 'listed', 'line', 'limit', 'lily', 'liketo', 'likely', 'lightening', 'lifetime', 'licenced', 'librerialexandergmailcom', 'libreri', 'lets', 'lesco', 'lend', 'legislation', 'leaving', 'leaves', 'lease', 'learn', 'leakage', 'lathe', 'lately', 'lasts', 'large', 'lap', 'language', 'kostovabrbr', 'konvenju', 'knows', 'knowledge', 'knowing', 'knk', 'knew', 'kg', 'kevin', 'kepps', 'kbira', 'k', 'jurgen', 'juliansbrb', 'joystick', 'jorge', 'jooda', 'jobsplus', 'jinhassu', 'jewellery', 'jet', 'jesmondaborggovmt', 'jes', 'jeopardise', 'jason', 'january2020', 'jan', 'jacket', 'irrespective', 'inwards', 'invoiced', 'invested', 'invertor', 'inventa', 'invalidate', 'invalid', 'internationally', 'internationa', 'internal', 'intermittent', 'intends', 'intake', 'instructions', 'installing', 'install', 'inspector', 'insolvent', 'insist', 'inside', 'inquiring', 'input', 'initially', 'initial', 'inguanez', 'informs', 'informing', 'individuals', 'individual', 'indicates', 'indicated', 'independent', 'inconvenient', 'inconvenience', 'include', 'inch', 'inc', 'inadequate', 'impression', 'importers', 'important', 'implying', 'immediatelybrb', 'imbroll', 'ie', 'idea', 'ice', 'hygienic', 'husband', 'hung', 'humidity', 'huge', 'hrs', 'housing', 'hospital', 'hood', 'hone', 'hon', 'homeline', 'holding', 'hobby', 'hobbs', 'hits', 'history', 'hinges', 'hiin', 'highlight', 'higher', 'hesitate', 'herewith', 'helps', 'headstone', 'head', 'hd', 'hazard', 'hassle', 'hardware', 'hard', 'happy', 'happen', 'hang', 'handle', 'hammer', 'hallman', 'hal', 'gwann', 'gusto', 'gusmanbrbr', 'gurnatee', 'guideline', 'guarnatee', 'guarantte', 'guaranteewas', 'guaranteed', 'gruppo', 'grill', 'greetings', 'greatly', 'great', 'graziellabrbr', 'graziella', 'grateful', 'granted', 'gone', 'goettebrbr', 'goes', 'godfrey', 'god', 'glasses', 'gives', 'gilbertbrbr', 'gift', 'ghaziz', 'gets', 'germany', 'genuine', 'generator', 'generally', 'general', 'gaucibrbr', 'gaskets', 'game', 'galaxy', 'gail', 'futura', 'fused', 'furious', 'frustratingly', 'frustrated', 'froma', 'fro', 'fridege', 'freezing', 'freezes', 'frankly', 'francesca', 'francesbrbr', 'frances', 'frame', 'fouls', 'formosa', 'forming', 'format', 'forget', 'forever', 'foreign', 'fonseca', 'followed', 'follow', 'foam', 'flushing', 'fluid', 'florian', 'flight', 'flats', 'fiveyear', 'five', 'fittings', 'fitting', 'fitted', 'fit', 'finishing', 'finish', 'fine', 'filled', 'fill', 'filed', 'file', 'fiind', 'figure', 'figallobrbr', 'fgura', 'fenechbrbr', 'feels', 'feel', 'fee', 'fed', 'feb', 'fears', 'fear', 'fcabrb', 'favor', 'fathers', 'family', 'fake', 'fairs', 'fails', 'failed', 'fabio', 'extremely', 'extention', 'explaining', 'expire', 'experience', 'expensive', 'expecting', 'expected', 'expansion', 'excuse', 'excessive', 'exactly', 'everywhere', 'eventhough', 'event', 'evening', 'eveidence', 'evaluation', 'euwhat', 'eurofor', 'eurod', 'euroand', 'euro30', 'eur95', 'eur850', 'eur800', 'eur80', 'eur75', 'eur575', 'eur5', 'eur25370', 'eur200', 'eur20', 'eur160', 'eur1400', 'erratic', 'erika', 'equipment', 'envy', 'entire', 'enquired', 'enemalta', 'ending', 'ended', 'encounter', 'ems', 'emailzakwarrhotmailcombr', 'emailwilmazarbyahoocoukbr', 'emailwilfriddebattistagmailcombr', 'emailvioletdavisgmailcombr', 'emailtracypulisgmailcombr', 'emailtonyschembrigovmtbr', 'emailtizzijattgmailcombr', 'emailtheillustratedkittygmailcombr', 'emailstephenflatcubearchitectscombr', 'emailspiterierikahotmailcombr', 'emailsergioscopazziumedumtbr', 'emailschembrigilbertgmailcombr', 'emailrogerbugejaefcombr', 'emailptica03gmailcombr', 'emailphilippasaidyahoocoukbr', 'emailnickfarrugia190hotmailcombr', 'emailnewbould078gmailcombr', 'emailnevyana1993gmailcombr', 'emailmarylin888hotmailcombr', 'emailmartinzsqmaltagmailcombr', 'emailmarkscamillerigmailcombr', 'emailmaricamicallefgmailcombr', 'emailmariamicallef18gmailcombr', 'emailmarcmifsudgmailcombr', 'emailmanagermadlienalodgecommtbr', 'emaillibrerialexandergmailcombr', 'emailkrinad2023gmailcombr', 'emailkevbonnicigmailcombr', 'emailkeithintegratecommtbr', 'emailjessolarsolutionscommtbr', 'emailjessicaaxisa89gmailcombr', 'emailjcini51gmailcombr', 'emailjasinguanezhotmailcombr', 'emailibriffagmailcombr', 'emailgusmanedwingmailcombr', 'emailgraziellaformosagmailcombr', 'emailgodfrilivecombr', 'emailgauciantoinegmailcombr', 'emailgailgaleagmailcombr', 'emailfreezingpoint273yahoocombr', 'emailfrancesgaleaportellihotmailcombr', 'emailfloriangoettegmailcombr', 'emailfcachia86gmailcombr', 'emailfabioaluisi99gmailcombr', 'emailed', 'emaildgg08outlookcombr', 'emaildanicazammit198gmailcombr', 'emailcsdavisonhotmailcombr', 'emailcschembridemarcogmailcombr', 'emailcloudcatcher46gmailcombr', 'emailclaudiabiondo89gmailcombr', 'emailclaudebonellogmailcombr', 'emailclairemscerrigmailcombr', 'emailcharmuscatgmailcombr', 'emailcharlesgalea100gmailcombr', 'emailchantellemariecamillerigmailcombr', 'emailcgau1995gmailcombr', 'emailcerisonbrowngmailcombr', 'emailcarua1977gmailcombr', 'emailcarmenbuttigieg63gmailcombr', 'emailbradleygciantarhotmailcombr', 'emailbillyjmcbeegmailcombr', 'emailb', 'emailarcmichelevitahotmailcombr', 'emailapapnomargmailcombr', 'emailapacebhotmailcombr', 'emailantonelladallihotmailcombr', 'emailantoinettefenechfarsonscombr', 'emailamandacassar31gmailcombr', 'emailagale031176gmailcombr', 'emailadrisalinas1gmailcombr', 'emailaaagnijacgmailcombr', 'eligable', 'elevated', 'element', 'electricity', 'electricals', 'electrical', 'electirc', 'elc', 'eg', 'efficiently', 'effect', 'edwin', 'ecu', 'ecovacs', 'ecasa', 'ebay', 'early', 'eagerly', 'dust', 'drops', 'droned', 'driving', 'drawer', 'draft', 'downloaded', 'domestic', 'dolce', 'documentatons', 'documentations', 'doctor', 'divided', 'dissatisfied', 'disposal', 'disk', 'discuss', 'discount', 'disagreement', 'dirt', 'directive', 'difficulty', 'differnt', 'didnt', 'diagnostic', 'dgbrbr', 'develped', 'designed', 'depositwhen', 'departments', 'deo', 'denying', 'dents', 'demo', 'demanded', 'deliver', 'delaying', 'delayed', 'delaer', 'defects', 'defecting', 'deepsseated', 'decreased', 'declaration', 'deceive', 'decathlon', 'dec', 'debattista', 'dealt', 'dealerwould', 'dealership', 'dealers', 'de', 'dawret', 'davisonbrbr', 'davisbrbr', 'data', 'dashboard', 'darmanin', 'damages', 'dallibrbr', 'dalli', 'cutting', 'cuschieribrb', 'cs', 'cross', 'cropping', 'created', 'create', 'cracks', 'countries', 'councilor', 'costing', 'costed', 'corroded', 'correctly', 'copies', 'coolamon', 'cooking', 'conversations', 'conversation', 'controllers', 'controller', 'contrasts', 'contradicting', 'continuous', 'continuosly', 'continually', 'contested', 'container', 'consuming', 'consumed', 'constantly', 'console', 'consecutive', 'conpany', 'confirmation', 'confident', 'condominium', 'conditionthe', 'conditioners', 'conditioner', 'condition', 'conclusion', 'concerned', 'concept', 'concelead', 'concealed', 'comply', 'completely', 'completed', 'complete', 'companyimporter', 'communicated', 'commissioned', 'commerciallegal', 'commerce', 'commentments', 'commence', 'comformityi', 'collaborate', 'cold', 'codes', 'cockroach', 'coating', 'cloudcatcher46gmailcom', 'closure', 'clients', 'cleared', 'clear', 'cleaned', 'clause', 'claudebrbr', 'citizen', 'circumstances', 'circumstance', 'cinibrbr', 'cini', 'cigarette', 'chrome', 'christmas', 'choosing', 'choose', 'children', 'checking', 'cheat', 'charmaine', 'charlesbrbr', 'charles', 'charger', 'chantelle', 'challenge', 'chairs', 'chain', 'cg9382kfx', 'certificate', 'cerison', 'caught', 'category', 'categorised', 'categories', 'catching', 'cassarbrbr', 'caruanamtgmailcom', 'caruanabrbr', 'caruana77633854', 'caroline', 'carmen', 'carefully', 'cardboard', 'cardb', 'card', 'capacity', 'capability', 'cans', 'cancelled', 'camerasguarantee', 'calleja', 'cachia', 'ca', 'bzn', 'buys', 'buyer', 'buttigiegbrbr', 'bust', 'businesses', 'burnt', 'burners', 'bureau', 'bullet', 'bulb', 'bugejabrbr', 'bugeja', 'bt', 'brydon', 'bringing', 'briffabrbr', 'briffa79406742', 'breaking', 'breakdowns', 'breachedi', 'brb', 'bradleybrbr', 'bout', 'bougth', 'boughta', 'bottom', 'boss', 'bosch', 'booked', 'bonnicibrbr', 'bonguf', 'boiler', 'boast', 'blue', 'blomberg', 'blocks', 'blockage', 'blatantly', 'blankwas', 'blades', 'bitter', 'biondobrbr', 'binding', 'bigger', 'big', 'beyond', 'bent', 'benelli', 'belong', 'believes', 'behalf', 'begun', 'began', 'beebrbr', 'bee992202850147285', 'bedside', 'bed', 'beater', 'bear', 'battistabrbr', 'basis', 'basically', 'basic', 'based', 'bargain', 'barcelona', 'bank', 'balzanbrbr', 'balzan', 'baldacchinobrbr', 'bag', 'backs', 'b2c', 'await', 'avis', 'av', 'automobiles', 'auto', 'authority', 'audio', 'atura', 'attendant', 'attempts', 'attach', 'atrick', 'assisted', 'assist', 'assigned', 'assemble', 'asfreseller', 'arrive', 'arranty', 'arm', 'arkadia', 'arising', 'arises', 'argues', 'argued', 'area', 'approx', 'appropriate', 'appriciated', 'appliences', 'applicable', 'applaince', 'appearing', 'appeared', 'apologies', 'apertures', 'apapbrbr', 'apap', 'antoinette', 'anticipation', 'anothet', 'anoid', 'anode', 'annual', 'andrejevicbrbr', 'analog', 'amounts', 'amounted', 'among', 'amicably', 'amicable', 'american', 'amended', 'amanda', 'aluisibrbr', 'altogether', 'alternative', 'alta', 'alt', 'alot', 'allegedly', 'allegations', 'alexanderbrbr', 'alexander', 'alarm', 'airconditionand', 'airbags', 'ahead', 'agoafter', 'agnijabrbr', 'afterwards', 'afford', 'affirm', 'affects', 'affecting', 'affected', 'aesthetic', 'advertised', 'advantage', 'adternoon', 'adopted', 'admittedly', 'admitted', 'admit', 'adequately', 'additionally', 'additional', 'adapter', 'actually', 'acts', 'activate', 'action', 'act', 'accounts', 'accordance', 'access', 'abela', 'a40', '9th', '9999brb', '99943629', '99890149', '99877396', '99858084', '99487799', '922021', '90', '822021', '8142brb', '7years', '7th', '79823174', '79389000', '79220799', '77759008', '77322220', '77210317', '752', '720p', '700', '6month', '650', '61401471097', '500x', '50', '493470m', '489', '48', '42', '400', '3th', '399', '37', '35yrs', '35677322220brb', '34', '2yr', '2years', '2months', '2999', '29', '28', '27154', '27072020', '27', '26', '25th', '25022020', '2500', '24th', '24mnths', '2482', '22495', '2219', '22', '21092019', '20th', '2018brb', '2004', '200', '1yr', '1year', '1pm', '19th', '190eu', '19', '18th', '18mths', '18072020', '17072020', '17', '150', '14999', '13th', '129900', '1259', '10yr', '10th', '106', '1030am', '09072020', '03122020', '01122019', '01122017', '0036189', '', "
     ]
    }
   ],
   "source": [
    "X = \"\"\n",
    "\n",
    "for i in messages:\n",
    "    X += ' ' + i\n",
    "\n",
    "freq = []\n",
    "\n",
    "for unique in set(X.split(' ')):\n",
    "    freq.append([X.split(' ').count(unique), unique])\n",
    "\n",
    "\n",
    "freq = sorted(freq)\n",
    "freq.reverse()\n",
    "\n",
    "for i in freq:\n",
    "    print(f\"'{i[1]}', \", end='')"
   ]
  },
  {
   "cell_type": "code",
   "execution_count": null,
   "metadata": {},
   "outputs": [],
   "source": []
  },
  {
   "cell_type": "code",
   "execution_count": 28,
   "metadata": {},
   "outputs": [],
   "source": [
    "def clean(input_text):\n",
    "    '''\n",
    "    This function cleans the body received from e-mails so that features\n",
    "    to be processed by the Support Vector Machine are extracted from it \n",
    "    more effectively\n",
    "\n",
    "    via https://www.geeksforgeeks.org/python-efficient-text-data-cleaning/\n",
    "    '''\n",
    "\n",
    "    apos_dict = {\"'s\":\" is\",\"n't\":\" not\",\"'m\":\" am\",\"'ll\":\" will\",\n",
    "           \"'d\":\" would\",\"'ve\":\" have\",\"'re\":\" are\"}\n",
    "\n",
    "    warning_message = 'CAUTION: This email originated from OUTSIDE the Government Email Infrastructure. DO NOT CLICK LINKS or OPEN attachments unless you recognise the sender and know the content is safe.'\n",
    "\n",
    "    if warning_message in input_text:\n",
    "        input_text = re.sub(warning_message, '', input_text)\n",
    "\n",
    "    # Convert to unicode\n",
    "    input_text = unidecode(input_text) \n",
    "\n",
    "    # Remove URLs, hashtags\n",
    "    input_text = re.sub(r'https?:\\/\\/.\\S+', '', input_text)\n",
    "    input_text = re.sub(r'#', '', input_text)\n",
    "\n",
    "    # Contraction replacement\n",
    "    for key, value in apos_dict.items():\n",
    "        if key in input_text:\n",
    "            input_text = input_text.replace(key,value)\n",
    "\n",
    "    # Split attached words\n",
    "    input_text = ' '.join([s for s in re.split('([A-Z][a-z]+[^A-Z]*)', input_text) if s])\n",
    "\n",
    "    # Remove punctuation\n",
    "    input_text_list = []\n",
    "    for word in input_text:\n",
    "        if word not in string.punctuation:\n",
    "            input_text_list.append(word)\n",
    "\n",
    "    input_text_list = ''.join(input_text_list).split(' ')\n",
    "    input_text = ' '.join(input_text_list)\n",
    "\n",
    "    # Translation + Spell check\n",
    "    input_text = re.sub(r'(?<![\\w\\d])kons(?![\\w\\d])', 'konsumatur', input_text)\n",
    "    input_text = re.sub(r'(?<![\\w\\d])cons(?![\\w\\d])', 'consumer', input_text)\n",
    "\n",
    "    # translator = Translator()\n",
    "\n",
    "    # lang = translator.detect(input_text).lang\n",
    "\n",
    "    # input_text = translator.translate(input_text, dest='en').text\n",
    "    # input_text_list = input_text.split(' ')\n",
    "\n",
    "    spell = Speller(lang='en')\n",
    "    \n",
    "    for i in range(len(input_text_list)):\n",
    "        input_text_list[i] = spell(input_text_list[i])\n",
    "\n",
    "    input_text = ' '.join(input_text_list)\n",
    "\n",
    "    # Convert to lowercase\n",
    "    input_text = input_text.lower()\n",
    "\n",
    "    # Remove stopwords\n",
    "    exceptions = ['not']\n",
    "    ignore = ['hi', 'hello', 'dear', 'sir', 'madam', 'ms', 'mr', 'regards']\n",
    "\n",
    "    input_text_tokens = input_text.split()\n",
    "\n",
    "    input_text_list = []\n",
    "    for word in input_text_tokens:\n",
    "        if (word not in stopwords_eng) and (word not in ignore) or (word in exceptions):\n",
    "            input_text_list.append(word)\n",
    "\n",
    "    input_text = ' '.join(input_text_list)\n",
    "\n",
    "    input_text = re.sub(' +', ' ', input_text)\n",
    "\n",
    "    return input_text, lang"
   ]
  }
 ],
 "metadata": {
  "kernelspec": {
   "display_name": "Python 3.7.9 ('base')",
   "language": "python",
   "name": "python3"
  },
  "language_info": {
   "codemirror_mode": {
    "name": "ipython",
    "version": 3
   },
   "file_extension": ".py",
   "mimetype": "text/x-python",
   "name": "python",
   "nbconvert_exporter": "python",
   "pygments_lexer": "ipython3",
   "version": "3.7.9"
  },
  "orig_nbformat": 4,
  "vscode": {
   "interpreter": {
    "hash": "44b3ccef905aea8493e9a0c231a38d622c137f2c59b91b8403c0480fbeb074fd"
   }
  }
 },
 "nbformat": 4,
 "nbformat_minor": 2
}
